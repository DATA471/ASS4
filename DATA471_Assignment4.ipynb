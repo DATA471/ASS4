{
 "cells": [
  {
   "cell_type": "code",
   "execution_count": 81,
   "id": "52c694f5-a648-45fb-8605-940b843c1914",
   "metadata": {},
   "outputs": [],
   "source": [
    "# DATA471n - Assginment 4\n",
    "#  Fahad Bukhari "
   ]
  },
  {
   "cell_type": "markdown",
   "id": "b4c53437",
   "metadata": {},
   "source": [
    "# Part 1:  EDA"
   ]
  },
  {
   "cell_type": "markdown",
   "id": "ba5560d4",
   "metadata": {},
   "source": [
    "### Import Library "
   ]
  },
  {
   "cell_type": "code",
   "execution_count": 2,
   "id": "b74c0da2-6591-442c-9884-e62b19386f55",
   "metadata": {},
   "outputs": [],
   "source": [
    "import pandas as pd\n",
    "import numpy as np\n",
    "import seaborn as sns\n",
    "import matplotlib.pyplot as plt\n",
    "from sklearn.model_selection import train_test_split\n",
    "from sklearn.linear_model import LogisticRegression\n",
    "from sklearn.metrics import roc_auc_score\n",
    "from sklearn.ensemble import RandomForestClassifier"
   ]
  },
  {
   "cell_type": "markdown",
   "id": "b99ab053",
   "metadata": {},
   "source": [
    "### Reading dataset"
   ]
  },
  {
   "cell_type": "markdown",
   "id": "4d226814",
   "metadata": {},
   "source": [
    "Load two dataset CSV files into pandas DataFrames:\n",
    "- (train-1.csv) for training and exvaluation the model \n",
    "- (test-1.csv) for testing model geeralization on unseen dta  "
   ]
  },
  {
   "cell_type": "code",
   "execution_count": 122,
   "id": "47f70fdb-cca6-4507-9033-57a17c9fa950",
   "metadata": {},
   "outputs": [],
   "source": [
    "# Load the dataset\n",
    "train_data = pd.read_csv('train-1.csv')\n",
    "test_data = pd.read_csv('test-1.csv')"
   ]
  },
  {
   "cell_type": "code",
   "execution_count": null,
   "id": "932aaa96-8b8f-4f68-a058-9ab3a60b1620",
   "metadata": {},
   "outputs": [],
   "source": [
    "# View the first few rows of the training data\n",
    "# print(train_data.head())"
   ]
  },
  {
   "cell_type": "markdown",
   "id": "dafaefc2",
   "metadata": {},
   "source": [
    "### Data Discreptive: "
   ]
  },
  {
   "cell_type": "markdown",
   "id": "a11fc25c",
   "metadata": {},
   "source": [
    "- ##### Data Structure: \n",
    "    - Check data type for each variables: \n",
    "    - Dataset consist of ........ columns\n",
    "    - Categorical Columns: .........\n",
    "    - Numerical Columns: ........"
   ]
  },
  {
   "cell_type": "code",
   "execution_count": 88,
   "id": "3c2944d6-71cd-41bf-b84e-1159a4ff7638",
   "metadata": {},
   "outputs": [
    {
     "name": "stdout",
     "output_type": "stream",
     "text": [
      "<class 'pandas.core.frame.DataFrame'>\n",
      "RangeIndex: 6117 entries, 0 to 6116\n",
      "Data columns (total 14 columns):\n",
      " #   Column               Non-Null Count  Dtype  \n",
      "---  ------               --------------  -----  \n",
      " 0   customer_id          6117 non-null   object \n",
      " 1   year_of_observation  6117 non-null   int64  \n",
      " 2   insured_period       6117 non-null   float64\n",
      " 3   residential          6117 non-null   int64  \n",
      " 4   building_painted     6117 non-null   object \n",
      " 5   building_fenced      6117 non-null   object \n",
      " 6   garden               6110 non-null   object \n",
      " 7   settlement           6117 non-null   object \n",
      " 8   building_dimension   6015 non-null   float64\n",
      " 9   building_type        6117 non-null   int64  \n",
      " 10  date_of_occupancy    5658 non-null   float64\n",
      " 11  number_of_windows    6117 non-null   object \n",
      " 12  geo_code             6019 non-null   object \n",
      " 13  claim                6117 non-null   int64  \n",
      "dtypes: float64(3), int64(4), object(7)\n",
      "memory usage: 669.2+ KB\n",
      "None\n"
     ]
    }
   ],
   "source": [
    "# Check the info and data types\n",
    "print(train_data.info())"
   ]
  },
  {
   "cell_type": "markdown",
   "id": "d5c94963",
   "metadata": {},
   "source": [
    "- #### Convert Wrong Data Type:\n",
    "    - number_of_windows: convert to int64, and remove wringe format(>=10 , .)\n",
    "    - date_of_occupancy: convert to time serice\n",
    "    - geo_code:  convert to float, and drop data with wrong format (2B353)"
   ]
  },
  {
   "cell_type": "code",
   "execution_count": 93,
   "id": "98078d3e",
   "metadata": {},
   "outputs": [],
   "source": [
    "import pandas as pd\n",
    "\n",
    "# Assuming train_data is a pandas DataFrame\n",
    "\n",
    "# Function to check if a value can be converted to an integer\n",
    "def is_integer(value):\n",
    "    try:\n",
    "        int(value)\n",
    "        return True\n",
    "    except ValueError:\n",
    "        return False\n",
    "\n",
    "# Function to check if a value can be converted to a float\n",
    "def is_float(value):\n",
    "    try:\n",
    "        float(value)\n",
    "        return True\n",
    "    except ValueError:\n",
    "        return False\n",
    "\n",
    "# Remove rows with invalid data in the 'number_of_windows' column\n",
    "train_data = train_data[train_data['number_of_windows'].apply(is_integer)]\n",
    "\n",
    "# Convert the 'number_of_windows' column to an integer data type\n",
    "train_data['number_of_windows'] = train_data['number_of_windows'].astype(int)\n",
    "\n",
    "# Convert the 'date_of_occupancy' column to a datetime data type\n",
    "train_data['date_of_occupancy'] = pd.to_datetime(train_data['date_of_occupancy'], errors='coerce')\n",
    "\n",
    "# Remove rows with invalid data in the 'geo_code' column\n",
    "train_data = train_data[train_data['geo_code'].apply(is_float)]"
   ]
  },
  {
   "cell_type": "markdown",
   "id": "681a7ab5",
   "metadata": {},
   "source": [
    "### Check Imbalance: \n",
    "Check class imbalabnce in target variable, by count the number of samples for each target class\n"
   ]
  },
  {
   "cell_type": "code",
   "execution_count": 94,
   "id": "a7869322",
   "metadata": {},
   "outputs": [
    {
     "name": "stdout",
     "output_type": "stream",
     "text": [
      "{0 : 2160}\n",
      "{1 : 722}\n"
     ]
    }
   ],
   "source": [
    "import numpy as np\n",
    "for c in np.unique(train_data['claim']):\n",
    "    print('{%d : %d}' % (c, sum(train_data['claim']==c)))"
   ]
  },
  {
   "cell_type": "markdown",
   "id": "8684c936",
   "metadata": {},
   "source": [
    "- As you can see in the result, there 4698 with class 0. while class 1 account 1419 instances.\n",
    "- Thus, the dataset has imbalance issue."
   ]
  },
  {
   "cell_type": "markdown",
   "id": "588f0a10",
   "metadata": {},
   "source": [
    "### Descreptive:"
   ]
  },
  {
   "cell_type": "markdown",
   "id": "d31af1df",
   "metadata": {},
   "source": [
    "- Check data range for each variables."
   ]
  },
  {
   "cell_type": "code",
   "execution_count": 95,
   "id": "0db679dd-41f4-4a8e-b45c-ae1a399c3e08",
   "metadata": {},
   "outputs": [
    {
     "name": "stdout",
     "output_type": "stream",
     "text": [
      "       year_of_observation  insured_period  residential  building_dimension  \\\n",
      "count          2882.000000     2882.000000  2882.000000         2882.000000   \n",
      "mean           2013.379251        0.921866     0.354268         2059.299792   \n",
      "std               1.080334        0.219290     0.478374         2313.554544   \n",
      "min            2012.000000        0.000000     0.000000           85.000000   \n",
      "25%            2012.000000        1.000000     0.000000          600.000000   \n",
      "50%            2013.000000        1.000000     0.000000         1250.000000   \n",
      "75%            2014.000000        1.000000     1.000000         2649.000000   \n",
      "max            2015.000000        1.000000     1.000000        20940.000000   \n",
      "\n",
      "       building_type  number_of_windows        claim  \n",
      "count    2882.000000        2882.000000  2882.000000  \n",
      "mean        2.202290           4.214087     0.250520  \n",
      "std         0.946882           1.647620     0.433388  \n",
      "min         1.000000           1.000000     0.000000  \n",
      "25%         2.000000           3.000000     0.000000  \n",
      "50%         2.000000           4.000000     0.000000  \n",
      "75%         3.000000           5.000000     1.000000  \n",
      "max         4.000000           9.000000     1.000000  \n"
     ]
    }
   ],
   "source": [
    "# Summary statistics for numerical columns\n",
    "print(train_data.describe())"
   ]
  },
  {
   "cell_type": "code",
   "execution_count": 83,
   "id": "b95ef854",
   "metadata": {},
   "outputs": [
    {
     "data": {
      "image/png": "[encoded data removed]",
      "text/plain": [
       "<Figure size 640x480 with 1 Axes>"
      ]
     },
     "metadata": {},
     "output_type": "display_data"
    }
   ],
   "source": [
    "# Plot the distribution of the target variable\n",
    "sns.countplot(x='claim', data=train_data)\n",
    "plt.title('Distribution of Claims')\n",
    "plt.show()"
   ]
  },
  {
   "cell_type": "markdown",
   "id": "a6eabec9",
   "metadata": {},
   "source": [
    "- Convert categorical columns"
   ]
  },
  {
   "cell_type": "code",
   "execution_count": 68,
   "id": "1aa77f16",
   "metadata": {},
   "outputs": [],
   "source": [
    "# Convert categorical columns to category type\n",
    "categorical_columns = ['residential', 'building_painted', 'building_fenced', 'garden', 'settlement', 'building_type']\n",
    "\n",
    "for col in categorical_columns:\n",
    "    train_data[col] = train_data[col].astype('category')\n",
    "\n",
    "# Convert 'geo_code' to categorical if it's categorical\n",
    "# train_data['geo_code'] = train_data['geo_code'].astype('category')\n",
    "\n",
    "# Convert 'claim' column to categorical data type\n",
    "# train_data['claim'] = train_data['claim'].astype('category')"
   ]
  },
  {
   "cell_type": "markdown",
   "id": "d7ccc988",
   "metadata": {},
   "source": [
    "- Check Variables types"
   ]
  },
  {
   "cell_type": "code",
   "execution_count": 96,
   "id": "84588910",
   "metadata": {},
   "outputs": [
    {
     "name": "stdout",
     "output_type": "stream",
     "text": [
      "customer_id                    object\n",
      "year_of_observation             int64\n",
      "insured_period                float64\n",
      "residential                     int64\n",
      "building_painted               object\n",
      "building_fenced                object\n",
      "garden                         object\n",
      "settlement                     object\n",
      "building_dimension            float64\n",
      "building_type                   int64\n",
      "date_of_occupancy      datetime64[ns]\n",
      "number_of_windows               int32\n",
      "geo_code                       object\n",
      "claim                           int64\n",
      "dtype: object\n"
     ]
    }
   ],
   "source": [
    "# Verify data types to make sure all categorical columns are strings\n",
    "print(train_data.dtypes)"
   ]
  },
  {
   "cell_type": "markdown",
   "id": "0830c9f7",
   "metadata": {},
   "source": [
    "### Missing Value: "
   ]
  },
  {
   "cell_type": "markdown",
   "id": "b16420b1",
   "metadata": {},
   "source": [
    "- Check missing for each variables."
   ]
  },
  {
   "cell_type": "code",
   "execution_count": 98,
   "id": "55df2c49-3eba-449a-9b1c-ebf3355fefe0",
   "metadata": {},
   "outputs": [
    {
     "name": "stdout",
     "output_type": "stream",
     "text": [
      "customer_id            0\n",
      "year_of_observation    0\n",
      "insured_period         0\n",
      "residential            0\n",
      "building_painted       0\n",
      "building_fenced        0\n",
      "garden                 7\n",
      "settlement             0\n",
      "building_dimension     0\n",
      "building_type          0\n",
      "date_of_occupancy      0\n",
      "number_of_windows      0\n",
      "geo_code               0\n",
      "claim                  0\n",
      "dtype: int64\n"
     ]
    }
   ],
   "source": [
    "# Check for missing values in each column\n",
    "print(train_data.isnull().sum())"
   ]
  },
  {
   "cell_type": "markdown",
   "id": "747f064a",
   "metadata": {},
   "source": [
    "- Plot misssing Value for each variable"
   ]
  },
  {
   "cell_type": "code",
   "execution_count": null,
   "id": "205dcc73",
   "metadata": {},
   "outputs": [],
   "source": [
    "# Check for missing values\n",
    "missing_values = train_data.isnull().sum()\n",
    "\n",
    "# Create a DataFrame for plotting\n",
    "missing_df = pd.DataFrame({\n",
    "    'Columns': missing_values.index,\n",
    "    'Missing Values': missing_values.values\n",
    "})\n",
    "\n",
    "# Plot the missing values\n",
    "plt.figure(figsize=(10, 8))\n",
    "barplot = sns.barplot(x='Columns', y='Missing Values', data=missing_df)\n",
    "plt.title('Distribution of Missing Values Across Features')\n",
    "# Annotate each bar with the count of missing values\n",
    "for p in barplot.patches:\n",
    "    barplot.annotate(format(p.get_height(), '.0f'),\n",
    "                (p.get_x() + p.get_width() / 2., p.get_height()),\n",
    "                    ha = 'center', va = 'center',\n",
    "                    xytext = (0, 9), textcoords = 'offset points')\n",
    "plt.show()"
   ]
  },
  {
   "cell_type": "markdown",
   "id": "ceb7fdc1",
   "metadata": {},
   "source": [
    "- **As the information above, found missing data into Four columns building_dimension, date_of_occupancy, garden and geo_code.**\n",
    "\n",
    "    - For (building_dimension) column, there are 102 missing value of 6117.\n",
    "    - For (date_of_occupancy) column, there are 459 missing value of 6117.\n",
    "    - For (garden) column, there are 7 missing value of 6117.\n",
    "    - for (geo_code) column, there are 98 missing value of 6117."
   ]
  },
  {
   "cell_type": "markdown",
   "id": "27b243f5",
   "metadata": {},
   "source": [
    "#### Impute Missing Value:"
   ]
  },
  {
   "cell_type": "markdown",
   "id": "bd895fd0",
   "metadata": {},
   "source": [
    "- Impute Numrerical variables"
   ]
  },
  {
   "cell_type": "code",
   "execution_count": 101,
   "id": "54286c45-6927-419c-8099-1156a37b2384",
   "metadata": {},
   "outputs": [
    {
     "name": "stdout",
     "output_type": "stream",
     "text": [
      "Non-numeric data found in column: customer_id\n",
      "Non-numeric data found in column: building_painted\n",
      "Non-numeric data found in column: building_fenced\n",
      "Non-numeric data found in column: garden\n",
      "Non-numeric data found in column: settlement\n"
     ]
    }
   ],
   "source": [
    "# Handle Missing Values\n",
    "# Identify columns with non-numeric values\n",
    "for col in train_data.columns:\n",
    "    try:\n",
    "        pd.to_numeric(train_data[col])\n",
    "    except ValueError:\n",
    "        print(f'Non-numeric data found in column: {col}')"
   ]
  },
  {
   "cell_type": "code",
   "execution_count": 39,
   "id": "56f3e9e3-446e-438b-a689-ce1ac175c22c",
   "metadata": {},
   "outputs": [],
   "source": [
    "# Fill missing numeric values with the mean of the numeric columns\n",
    "numeric_columns = train_data.select_dtypes(include=['number']).columns\n",
    "train_data[numeric_columns] = train_data[numeric_columns].fillna(train_data[numeric_columns].mean())\n"
   ]
  },
  {
   "cell_type": "markdown",
   "id": "855f476a",
   "metadata": {},
   "source": [
    "- Impute Categorical variables"
   ]
  },
  {
   "cell_type": "code",
   "execution_count": 104,
   "id": "6e3f5510-a2b8-402a-9614-b9d8beb15c55",
   "metadata": {},
   "outputs": [],
   "source": [
    "# Fill missing categorical values with the most frequent value (mode)\n",
    "categorical_columns = train_data.select_dtypes(include=['category', 'object']).columns\n",
    "train_data[categorical_columns] = train_data[categorical_columns].apply(lambda x: x.fillna(x.mode()[0]))"
   ]
  },
  {
   "cell_type": "code",
   "execution_count": null,
   "id": "c79fb9cd-7811-404b-9976-e11e3094e23d",
   "metadata": {},
   "outputs": [],
   "source": [
    "# Check for missing values in each column\n",
    "print(train_data.isnull().sum())"
   ]
  },
  {
   "cell_type": "code",
   "execution_count": 114,
   "id": "7e67b0fe-224f-4e03-8457-f22fad0d0e22",
   "metadata": {},
   "outputs": [],
   "source": [
    "# One-hot encode the categorical variables (excluding 'claim')\n",
    "#train_data_encoded = pd.get_dummies(train_data.drop(columns=['claim']), drop_first=True)\n",
    "\n",
    "# Add the 'claim' column back to the encoded DataFrame\n",
    "#train_data_encoded['claim'] = train_data['claim']\n",
    "\n",
    "# Define X (features) and y (target)\n",
    "#X = train_data_encoded.drop(columns=['claim'])\n",
    "#y = train_data_encoded['claim'].astype(int)\n"
   ]
  },
  {
   "cell_type": "markdown",
   "id": "ea921f5f",
   "metadata": {},
   "source": [
    "### Correlation: "
   ]
  },
  {
   "cell_type": "markdown",
   "id": "23ec6115",
   "metadata": {},
   "source": [
    "- Compute the correlation matrix"
   ]
  },
  {
   "cell_type": "code",
   "execution_count": 123,
   "id": "ae8f6384",
   "metadata": {},
   "outputs": [
    {
     "name": "stderr",
     "output_type": "stream",
     "text": [
      "C:\\Users\\Engbo\\AppData\\Local\\Temp\\ipykernel_42808\\3200509972.py:2: FutureWarning: The default value of numeric_only in DataFrame.corr is deprecated. In a future version, it will default to False. Select only valid columns or specify the value of numeric_only to silence this warning.\n",
      "  correlation_matrix = train_data.corr()\n"
     ]
    },
    {
     "data": {
      "image/png": "[encoded data removed]",
      "text/plain": [
       "<Figure size 1000x800 with 2 Axes>"
      ]
     },
     "metadata": {},
     "output_type": "display_data"
    }
   ],
   "source": [
    "# Step 1: Compute the correlation matrix\n",
    "correlation_matrix = train_data.corr()\n",
    "\n",
    "#print(correlation_matrix)\n",
    "\n",
    "# Visualize the correlation matrix\n",
    "plt.figure(figsize=(10, 8))  # Set the figure size\n",
    "sns.heatmap(correlation_matrix, annot=True, cmap='coolwarm', fmt='.2f', linewidths=0.5)\n",
    "plt.title('Correlation Matrix Heatmap')\n",
    "plt.show()"
   ]
  },
  {
   "cell_type": "markdown",
   "id": "0d0c4840",
   "metadata": {},
   "source": [
    "# Part 2:  MODELING: "
   ]
  },
  {
   "cell_type": "markdown",
   "id": "ba09c899",
   "metadata": {},
   "source": [
    "- **Logistic Regression:** linear model that predicts the probability of a binary outcome\n",
    "    - Linearly separable data: Logistic regression performs well when the data is linearly separable\n",
    "    - The relationship between the features and target is likely linear\n",
    "\n",
    "- **Support Vector Machine (SVM):** is a powerful classification algorithm that aims to find the hyperplane that maximizes the margin between two classes.\n",
    "    - It can handle both linear and non-linear relationships.\n",
    "    - Feature scaling: is necessary before applying the model.\n",
    "    - Class imbalance: is necessary to fix class imbalance before apply SMV model.\n",
    "\n",
    "- **Random Forest:** is an ensemble learning algorithm that builds multiple decision trees and aggregates their predictions.\n",
    "    - Random Forest can model complex, non-linear decision boundaries.\n",
    "    - Feature importance: Random Forest provides a way to measure feature importance.\n",
    "    - Handling missing data: Random Forest can handle missing data in the input features and can also deal with categorical features directly.\n",
    "    - Imbalanced data: Random Forest can be sensitive to class imbalances\n",
    "\n",
    "- **DecisionTree:** DT algorithm can be effectively used for a binary classification task\n",
    "    - Decision Trees are non-linear models that can capture complex relationships between features and the target variable.\n",
    "    - Decision Trees are well-suited for binary-classification problem, as they can iteratively split the data until each node corresponds to a specific class.\n",
    "    - No Need for Feature Scaling.\n",
    "    - Handling Missing Values: Decision Trees can handle missing values relatively well by splitting based on available information."
   ]
  },
  {
   "cell_type": "markdown",
   "id": "3c2583e9",
   "metadata": {},
   "source": [
    "### 1. Spliting Dataset"
   ]
  },
  {
   "cell_type": "markdown",
   "id": "ce152a43",
   "metadata": {},
   "source": [
    "- Splits the Training dataset into training and validation sets using the train_test_split"
   ]
  },
  {
   "cell_type": "code",
   "execution_count": 125,
   "id": "5c03f127",
   "metadata": {},
   "outputs": [
    {
     "name": "stdout",
     "output_type": "stream",
     "text": [
      "<class 'pandas.core.frame.DataFrame'>\n",
      "Int64Index: 4893 entries, 2925 to 860\n",
      "Data columns (total 13 columns):\n",
      " #   Column               Non-Null Count  Dtype  \n",
      "---  ------               --------------  -----  \n",
      " 0   customer_id          4893 non-null   object \n",
      " 1   year_of_observation  4893 non-null   int64  \n",
      " 2   insured_period       4893 non-null   float64\n",
      " 3   residential          4893 non-null   int64  \n",
      " 4   building_painted     4893 non-null   object \n",
      " 5   building_fenced      4893 non-null   object \n",
      " 6   garden               4889 non-null   object \n",
      " 7   settlement           4893 non-null   object \n",
      " 8   building_dimension   4809 non-null   float64\n",
      " 9   building_type        4893 non-null   int64  \n",
      " 10  date_of_occupancy    4520 non-null   float64\n",
      " 11  number_of_windows    4893 non-null   object \n",
      " 12  geo_code             4813 non-null   object \n",
      "dtypes: float64(3), int64(3), object(7)\n",
      "memory usage: 535.2+ KB\n"
     ]
    }
   ],
   "source": [
    "X_train.info()"
   ]
  },
  {
   "cell_type": "code",
   "execution_count": 124,
   "id": "4ad7ca42",
   "metadata": {},
   "outputs": [],
   "source": [
    "# Split the data into training and validation sets\n",
    "drop_columns = ['claim', 'customer_id', 'geo_code', 'building_painted', 'building_fenced', 'garden', 'settlement', 'number_of_windows']\n",
    "X = train_data.drop(columns=['claim'])\n",
    "y = train_data['claim']\n",
    "X_train, X_val, y_train, y_val = train_test_split(X, y, test_size=0.2, random_state=42)"
   ]
  },
  {
   "cell_type": "markdown",
   "id": "a595f899",
   "metadata": {},
   "source": [
    "### 2. Baseline Model "
   ]
  },
  {
   "cell_type": "markdown",
   "id": "ca350ac9",
   "metadata": {},
   "source": [
    "- **Pipline:**\n",
    "    - Impute Missing: use K-Nearest Neighbors (KNN) Imputation, and imputing the missing values using the mean or median of the neighbors\n",
    "    - Data Normalize: \n",
    "    - Use SVM model as baseline model. \n",
    "    \n",
    "- **Cross-Validation:** \n",
    "    - sdsdsd"
   ]
  },
  {
   "cell_type": "code",
   "execution_count": 138,
   "id": "f94e3476",
   "metadata": {},
   "outputs": [
    {
     "name": "stdout",
     "output_type": "stream",
     "text": [
      "Mean ROC AUC: 0.704\n"
     ]
    }
   ],
   "source": [
    "from sklearn.model_selection import RepeatedStratifiedKFold\n",
    "from sklearn.model_selection import cross_val_score\n",
    "from sklearn.pipeline import Pipeline\n",
    "from sklearn.preprocessing import StandardScaler\n",
    "from sklearn.impute import KNNImputer\n",
    "from sklearn.svm import SVC\n",
    "\n",
    "# Initialize and train Logistic Regression\n",
    "#baseline_model = LogisticRegression(class_weight='balanced')\n",
    "baseline_pipline = Pipeline([\n",
    "    ('impute_missing', KNNImputer(n_neighbors=2)),\n",
    "    ('scaller', StandardScaler()),\n",
    "    ('model', SVC(class_weight='balanced', probability=True))\n",
    "])\n",
    "\n",
    "cv = RepeatedStratifiedKFold(n_splits=10, n_repeats=3, random_state=1)\n",
    "scores = cross_val_score(baseline_pipline, X_train[['building_dimension','building_type', 'residential']], y_train, scoring='roc_auc', cv=cv, n_jobs=-1)\n",
    "print('Mean ROC AUC: %.3f' % np.mean(scores))\n",
    "# baseline_model.fit(X_train, y_train)\n",
    "\n",
    "# Make predictions on the validation set\n",
    "#y_pred_proba = baseline_model.predict_proba(X_val)[:, 1]\n",
    "\n",
    "# Calculate AUC-ROC\n",
    "#auc_baseline = roc_auc_score(y_val, y_pred_proba)\n",
    "#print(f'Baseline Model AUC-ROC: {auc_baseline:.4f}')"
   ]
  },
  {
   "cell_type": "markdown",
   "id": "b78952f8",
   "metadata": {},
   "source": [
    "- Evaluate Model"
   ]
  },
  {
   "cell_type": "code",
   "execution_count": 139,
   "id": "1345e492",
   "metadata": {},
   "outputs": [
    {
     "ename": "AttributeError",
     "evalue": "predict_proba is not available when  probability=False",
     "output_type": "error",
     "traceback": [
      "\u001b[1;31m---------------------------------------------------------------------------\u001b[0m",
      "\u001b[1;31mAttributeError\u001b[0m                            Traceback (most recent call last)",
      "\u001b[1;32m~\\AppData\\Local\\Temp\\ipykernel_42808\\3875992290.py\u001b[0m in \u001b[0;36m<cell line: 0>\u001b[1;34m()\u001b[0m\n\u001b[0;32m      3\u001b[0m \u001b[1;33m\u001b[0m\u001b[0m\n\u001b[0;32m      4\u001b[0m \u001b[1;31m# Predict probabilities on the test data\u001b[0m\u001b[1;33m\u001b[0m\u001b[1;33m\u001b[0m\u001b[0m\n\u001b[1;32m----> 5\u001b[1;33m \u001b[0mbase_pred_proba\u001b[0m \u001b[1;33m=\u001b[0m \u001b[0mbaseline_pipline\u001b[0m\u001b[1;33m.\u001b[0m\u001b[0mpredict_proba\u001b[0m\u001b[1;33m(\u001b[0m\u001b[0mX_val\u001b[0m\u001b[1;33m[\u001b[0m\u001b[1;33m[\u001b[0m\u001b[1;34m'building_dimension'\u001b[0m\u001b[1;33m,\u001b[0m \u001b[1;34m'building_type'\u001b[0m\u001b[1;33m]\u001b[0m\u001b[1;33m]\u001b[0m\u001b[1;33m)\u001b[0m\u001b[1;33m[\u001b[0m\u001b[1;33m:\u001b[0m\u001b[1;33m,\u001b[0m \u001b[1;36m1\u001b[0m\u001b[1;33m]\u001b[0m\u001b[1;33m\u001b[0m\u001b[1;33m\u001b[0m\u001b[0m\n\u001b[0m\u001b[0;32m      6\u001b[0m \u001b[1;33m\u001b[0m\u001b[0m\n\u001b[0;32m      7\u001b[0m \u001b[1;31m# Evaluate the model using ROC AUC score\u001b[0m\u001b[1;33m\u001b[0m\u001b[1;33m\u001b[0m\u001b[0m\n",
      "\u001b[1;32m~\\AppData\\Roaming\\Python\\Python311\\site-packages\\sklearn\\utils\\_available_if.py\u001b[0m in \u001b[0;36m__get__\u001b[1;34m(self, obj, owner)\u001b[0m\n\u001b[0;32m     30\u001b[0m             \u001b[1;31m# delegate only on instances, not the classes.\u001b[0m\u001b[1;33m\u001b[0m\u001b[1;33m\u001b[0m\u001b[0m\n\u001b[0;32m     31\u001b[0m             \u001b[1;31m# this is to allow access to the docstrings.\u001b[0m\u001b[1;33m\u001b[0m\u001b[1;33m\u001b[0m\u001b[0m\n\u001b[1;32m---> 32\u001b[1;33m             \u001b[1;32mif\u001b[0m \u001b[1;32mnot\u001b[0m \u001b[0mself\u001b[0m\u001b[1;33m.\u001b[0m\u001b[0mcheck\u001b[0m\u001b[1;33m(\u001b[0m\u001b[0mobj\u001b[0m\u001b[1;33m)\u001b[0m\u001b[1;33m:\u001b[0m\u001b[1;33m\u001b[0m\u001b[1;33m\u001b[0m\u001b[0m\n\u001b[0m\u001b[0;32m     33\u001b[0m                 \u001b[1;32mraise\u001b[0m \u001b[0mattr_err\u001b[0m\u001b[1;33m\u001b[0m\u001b[1;33m\u001b[0m\u001b[0m\n\u001b[0;32m     34\u001b[0m             \u001b[0mout\u001b[0m \u001b[1;33m=\u001b[0m \u001b[0mMethodType\u001b[0m\u001b[1;33m(\u001b[0m\u001b[0mself\u001b[0m\u001b[1;33m.\u001b[0m\u001b[0mfn\u001b[0m\u001b[1;33m,\u001b[0m \u001b[0mobj\u001b[0m\u001b[1;33m)\u001b[0m\u001b[1;33m\u001b[0m\u001b[1;33m\u001b[0m\u001b[0m\n",
      "\u001b[1;32m~\\AppData\\Roaming\\Python\\Python311\\site-packages\\sklearn\\pipeline.py\u001b[0m in \u001b[0;36mcheck\u001b[1;34m(self)\u001b[0m\n\u001b[0;32m     44\u001b[0m     \u001b[1;32mdef\u001b[0m \u001b[0mcheck\u001b[0m\u001b[1;33m(\u001b[0m\u001b[0mself\u001b[0m\u001b[1;33m)\u001b[0m\u001b[1;33m:\u001b[0m\u001b[1;33m\u001b[0m\u001b[1;33m\u001b[0m\u001b[0m\n\u001b[0;32m     45\u001b[0m         \u001b[1;31m# raise original `AttributeError` if `attr` does not exist\u001b[0m\u001b[1;33m\u001b[0m\u001b[1;33m\u001b[0m\u001b[0m\n\u001b[1;32m---> 46\u001b[1;33m         \u001b[0mgetattr\u001b[0m\u001b[1;33m(\u001b[0m\u001b[0mself\u001b[0m\u001b[1;33m.\u001b[0m\u001b[0m_final_estimator\u001b[0m\u001b[1;33m,\u001b[0m \u001b[0mattr\u001b[0m\u001b[1;33m)\u001b[0m\u001b[1;33m\u001b[0m\u001b[1;33m\u001b[0m\u001b[0m\n\u001b[0m\u001b[0;32m     47\u001b[0m         \u001b[1;32mreturn\u001b[0m \u001b[1;32mTrue\u001b[0m\u001b[1;33m\u001b[0m\u001b[1;33m\u001b[0m\u001b[0m\n\u001b[0;32m     48\u001b[0m \u001b[1;33m\u001b[0m\u001b[0m\n",
      "\u001b[1;32m~\\AppData\\Roaming\\Python\\Python311\\site-packages\\sklearn\\utils\\_available_if.py\u001b[0m in \u001b[0;36m__get__\u001b[1;34m(self, obj, owner)\u001b[0m\n\u001b[0;32m     30\u001b[0m             \u001b[1;31m# delegate only on instances, not the classes.\u001b[0m\u001b[1;33m\u001b[0m\u001b[1;33m\u001b[0m\u001b[0m\n\u001b[0;32m     31\u001b[0m             \u001b[1;31m# this is to allow access to the docstrings.\u001b[0m\u001b[1;33m\u001b[0m\u001b[1;33m\u001b[0m\u001b[0m\n\u001b[1;32m---> 32\u001b[1;33m             \u001b[1;32mif\u001b[0m \u001b[1;32mnot\u001b[0m \u001b[0mself\u001b[0m\u001b[1;33m.\u001b[0m\u001b[0mcheck\u001b[0m\u001b[1;33m(\u001b[0m\u001b[0mobj\u001b[0m\u001b[1;33m)\u001b[0m\u001b[1;33m:\u001b[0m\u001b[1;33m\u001b[0m\u001b[1;33m\u001b[0m\u001b[0m\n\u001b[0m\u001b[0;32m     33\u001b[0m                 \u001b[1;32mraise\u001b[0m \u001b[0mattr_err\u001b[0m\u001b[1;33m\u001b[0m\u001b[1;33m\u001b[0m\u001b[0m\n\u001b[0;32m     34\u001b[0m             \u001b[0mout\u001b[0m \u001b[1;33m=\u001b[0m \u001b[0mMethodType\u001b[0m\u001b[1;33m(\u001b[0m\u001b[0mself\u001b[0m\u001b[1;33m.\u001b[0m\u001b[0mfn\u001b[0m\u001b[1;33m,\u001b[0m \u001b[0mobj\u001b[0m\u001b[1;33m)\u001b[0m\u001b[1;33m\u001b[0m\u001b[1;33m\u001b[0m\u001b[0m\n",
      "\u001b[1;32m~\\AppData\\Roaming\\Python\\Python311\\site-packages\\sklearn\\svm\\_base.py\u001b[0m in \u001b[0;36m_check_proba\u001b[1;34m(self)\u001b[0m\n\u001b[0;32m    827\u001b[0m     \u001b[1;32mdef\u001b[0m \u001b[0m_check_proba\u001b[0m\u001b[1;33m(\u001b[0m\u001b[0mself\u001b[0m\u001b[1;33m)\u001b[0m\u001b[1;33m:\u001b[0m\u001b[1;33m\u001b[0m\u001b[1;33m\u001b[0m\u001b[0m\n\u001b[0;32m    828\u001b[0m         \u001b[1;32mif\u001b[0m \u001b[1;32mnot\u001b[0m \u001b[0mself\u001b[0m\u001b[1;33m.\u001b[0m\u001b[0mprobability\u001b[0m\u001b[1;33m:\u001b[0m\u001b[1;33m\u001b[0m\u001b[1;33m\u001b[0m\u001b[0m\n\u001b[1;32m--> 829\u001b[1;33m             raise AttributeError(\n\u001b[0m\u001b[0;32m    830\u001b[0m                 \u001b[1;34m\"predict_proba is not available when  probability=False\"\u001b[0m\u001b[1;33m\u001b[0m\u001b[1;33m\u001b[0m\u001b[0m\n\u001b[0;32m    831\u001b[0m             )\n",
      "\u001b[1;31mAttributeError\u001b[0m: predict_proba is not available when  probability=False"
     ]
    }
   ],
   "source": [
    "# Fit the pipeline on the entire training data\n",
    "baseline_pipline.fit(X_train[['building_dimension', 'building_type']], y_train)\n",
    "\n",
    "# Predict probabilities on the test data\n",
    "base_pred_proba = baseline_pipline.predict_proba(X_val[['building_dimension', 'building_type']])[:, 1]\n",
    "\n",
    "# Evaluate the model using ROC AUC score\n",
    "roc_auc = roc_auc_score(y_val, base_pred_proba)\n",
    "print('Test ROC AUC: %.3f' % roc_auc) "
   ]
  },
  {
   "cell_type": "markdown",
   "id": "57a0ab8b",
   "metadata": {},
   "source": [
    "### 3. Improved Model"
   ]
  },
  {
   "cell_type": "code",
   "execution_count": 134,
   "id": "7c3381d3",
   "metadata": {},
   "outputs": [
    {
     "name": "stdout",
     "output_type": "stream",
     "text": [
      "Mean ROC AUC: 0.602\n"
     ]
    }
   ],
   "source": [
    "\n",
    "improved_pipline = Pipeline([\n",
    "    ('impute_missing', KNNImputer(n_neighbors=2)),\n",
    "    ('scaller', StandardScaler()),\n",
    "    ('model', RandomForestClassifier(class_weight='balanced'))\n",
    "])\n",
    "\n",
    "cv = RepeatedStratifiedKFold(n_splits=10, n_repeats=2, random_state=1)\n",
    "scores = cross_val_score(improved_pipline, X_train[['building_dimension','building_type']], y_train, scoring='roc_auc', cv=cv, n_jobs=-1)\n",
    "print('Mean ROC AUC: %.3f' % np.mean(scores))\n",
    "\n",
    "# Initialize and train Random Forest\n",
    "#improved_model = RandomForestClassifier(n_estimators=100, random_state=42)\n",
    "#improved_model.fit(X_train[['building_dimension','building_type', 'residential']], y_train)\n",
    "\n",
    "# Make predictions on the validation set\n",
    "#y_pred_proba_improved = improved_model.predict_proba(X_val[['building_dimension','building_type']])[:, 1]\n",
    "\n",
    "# Calculate AUC-ROC\n",
    "#auc_improved = roc_auc_score(y_val, y_pred_proba_improved)\n",
    "#print(f'Improved Model AUC-ROC: {auc_improved:.4f}')\"\"\""
   ]
  },
  {
   "cell_type": "markdown",
   "id": "1242ed16",
   "metadata": {},
   "source": [
    "- Model Selection"
   ]
  },
  {
   "cell_type": "code",
   "execution_count": 137,
   "id": "bd9e5fb7",
   "metadata": {},
   "outputs": [
    {
     "name": "stdout",
     "output_type": "stream",
     "text": [
      "Test ROC AUC: 0.586\n"
     ]
    }
   ],
   "source": [
    "# Fit the pipeline on the entire training data\n",
    "improved_pipline.fit(X_train[['building_dimension', 'building_type']], y_train)\n",
    "\n",
    "# Predict probabilities on the test data\n",
    "improve_pred_proba = improved_pipline.predict_proba(X_val[['building_dimension', 'building_type']])[:, 1]\n",
    "\n",
    "# Evaluate the model using ROC AUC score\n",
    "roc_auc = roc_auc_score(y_val, improve_pred_proba)\n",
    "print('Test ROC AUC: %.3f' % roc_auc)"
   ]
  }
 ],
 "metadata": {
  "kernelspec": {
   "display_name": "Python 3 (ipykernel)",
   "language": "python",
   "name": "python3"
  },
  "language_info": {
   "codemirror_mode": {
    "name": "ipython",
    "version": 3
   },
   "file_extension": ".py",
   "mimetype": "text/x-python",
   "name": "python",
   "nbconvert_exporter": "python",
   "pygments_lexer": "ipython3",
   "version": "3.11.2"
  }
 },
 "nbformat": 4,
 "nbformat_minor": 5
}
